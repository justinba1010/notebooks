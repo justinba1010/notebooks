{
 "cells": [
  {
   "cell_type": "code",
   "execution_count": 1,
   "metadata": {},
   "outputs": [],
   "source": [
    "from random import randint, seed\n",
    "from time import time\n",
    "def get_time():\n",
    "    return int(time()*1000)\n",
    "seed(42)  # To make it deterministic"
   ]
  },
  {
   "cell_type": "markdown",
   "metadata": {},
   "source": [
    "# Data Structures\n",
    "\n",
    "* Arrays\n",
    "    * Fast access $O(1)$\n",
    "    * Fast modification $O(1)$ (cannot resize without copying whole array)\n",
    "    * Slow search $O(n)$\n",
    "    * If the data is constant, it can be more efficient to sort data once $O(n\\log n)$\n",
    "    * If array is sorted, can use binary search $O(\\log n)$\n",
    "    \n",
    "## More advanced\n",
    "* Key Value Structures\n",
    "    * Usually implemented as a red black tree (self balancing binary search tree)\n",
    "        * Medium access $O(\\log n)$\n",
    "        * Medium search $O(\\log n)$\n",
    "        * Medium insertion $O(\\log n)$\n",
    "        * Can use structure to do a lot more\n",
    "            * Iterate in order\n",
    "            * Get min/max\n",
    "            * Augment tree with even more data\n",
    "    * Many standard library sets and dictionaries use a hash table\n",
    "        * Fast access $O(1)$\n",
    "        * Fast search $O(1)$\n",
    "        * Fast insertion $O(1)$\n",
    "        * Note: anyone who says hash tables operate in $O(1)$ time are lying to you, but it's fine\n",
    "* Linked structures\n",
    "    * Lists/stacks/queues\n",
    "    * Slow search $O(n)$\n",
    "    * Slow access $O(n)$ but fast in some places ($O(1)$ for head of linked list stack)\n",
    "    * Slow insertion $O(1)$ but fast in some places (again $O(1)$ at head)\n",
    "    * Useful when you need to keep order of steps, like traversing a graph\n",
    "    * Stack: LIFO, Queue: FIFO\n",
    "* More niche\n",
    "    * Graphs\n",
    "    * Trees\n",
    "    * Heaps (priority queue)\n",
    "    * Tries\n",
    "    * Vectors\n",
    "    * etc\n",
    "    * Can be useful for certain problems\n"
   ]
  },
  {
   "cell_type": "markdown",
   "metadata": {},
   "source": [
    "# Solve the problem\n",
    "\n",
    "This is the first step. Try to pull out some paper and figure out a systematic way to solve the problem. Do not begin to optimize when you do not know if you are solving the correct problem. If your solution is too slow then worry about making it faster. There are multiple steps you should take to try and optimize your solution.\n",
    "\n",
    "1. Some precomputation or transformation of the data set\n",
    "    * If you find yourself searching for a value, then removing it and researching, you may benefit by transforming this data into something that is cheaper to work on."
   ]
  },
  {
   "cell_type": "code",
   "execution_count": 2,
   "metadata": {},
   "outputs": [
    {
     "name": "stdout",
     "output_type": "stream",
     "text": [
      "The naive solution: 51 took 869 milliseconds\n",
      "The faster solution: 51 took 1 milliseconds\n"
     ]
    }
   ],
   "source": [
    "## Finding the median\n",
    "n = 10000 # 100 vs 10000\n",
    "nums = [randint(0,100) for _ in range(n)]\n",
    "\n",
    "## Algorithm starts here\n",
    "\n",
    "def naive_solution(n, nums):\n",
    "    for i in range((n-1)//2):\n",
    "        min_val = min(nums)\n",
    "        nums.remove(min_val)\n",
    "    median = min(nums)\n",
    "    if n & 1 == 0: # if n is even\n",
    "        nums.remove(median)\n",
    "        median += min(nums)\n",
    "        median //= 2\n",
    "    return median\n",
    "\n",
    "## Faster algorithm starts here\n",
    "\n",
    "def presort_solution(n, nums):\n",
    "    nums.sort()\n",
    "    return (nums[(n-1)//2] + nums[n//2])//2\n",
    "## End Algorithms\n",
    "\n",
    "## Timing\n",
    "start_time = get_time()\n",
    "solution = naive_solution(n, nums[:])\n",
    "total_time = get_time() - start_time\n",
    "print(\"The naive solution: {} took {} milliseconds\".format(solution, total_time))\n",
    "\n",
    "start_time = get_time()\n",
    "solution = presort_solution(n, nums[:])\n",
    "total_time = get_time() - start_time\n",
    "print(\"The faster solution: {} took {} milliseconds\".format(solution, total_time))"
   ]
  },
  {
   "cell_type": "markdown",
   "metadata": {},
   "source": [
    "## More advanced techniques\n",
    "\n",
    "### Be greedy\n",
    "    * Sometimes you want to make the best decision you can at every step\n",
    "    * There are some cases where this is the optimal solution\n",
    "    * Typically in graph problems this can be useful, however typically greedy algorithms are approximate solutions\n",
    "        * There exists a few cases where they are the correct solution"
   ]
  },
  {
   "cell_type": "code",
   "execution_count": 3,
   "metadata": {},
   "outputs": [
    {
     "name": "stdout",
     "output_type": "stream",
     "text": [
      "[[0, 114, 149, 34, 167, 104, 61, 118, 175, 119], [114, 0, 79, 93, 53, 35, 80, 53, 67, 62], [149, 79, 0, 116, 94, 114, 145, 33, 123, 142], [34, 93, 116, 0, 146, 94, 68, 87, 159, 116], [167, 53, 94, 146, 0, 72, 126, 85, 30, 84], [104, 35, 114, 94, 72, 0, 54, 85, 72, 29], [61, 80, 145, 68, 126, 54, 0, 112, 125, 61], [118, 53, 33, 87, 85, 85, 112, 0, 110, 115], [175, 67, 123, 159, 30, 72, 125, 110, 0, 72], [119, 62, 142, 116, 84, 29, 61, 115, 72, 0]]\n",
      "[[5, 9], [4, 8], [2, 7], [0, 3], [1, 5], [1, 4], [1, 7], [5, 6], [0, 6]]\n"
     ]
    }
   ],
   "source": [
    "# Copyright 2019 Justin Baum\n",
    "# Kruskals Algorithm\n",
    "# kruskals-algo.py\n",
    "\n",
    "import matplotlib.pyplot as plt\n",
    "import random\n",
    "#import networkutils as nu\n",
    "\n",
    "\"\"\"\n",
    "1. Sort all the edges in non-decreasing order of their weight.\n",
    "2. Pick the smallest edge. Check if it forms a cycle with the spanning tree formed so far.\n",
    "    If cycle is not formed, include this edge. Else, discard it.\n",
    "3. Repeat step#2 until there are (V-1) edges in the spanning tree\n",
    "\"\"\"\n",
    "\n",
    "def kruskals(matrix):\n",
    "  m = len(matrix)\n",
    "  # Get all edges\n",
    "  E = [[i, j, matrix[i][j]] for i in range(m) for j in range(i+1,m)]\n",
    "  # Sort all edges by weight\n",
    "  E.sort(key = lambda x: x[2])\n",
    "  tree = []\n",
    "  dj = list(range(m))\n",
    "  # Add smallest edge that does not form a cycle until you have a spanning tree\n",
    "  while len(tree) <= m - 2:\n",
    "    leg = E[0]\n",
    "    E = E[1:]\n",
    "    if find(leg[0],dj) != find(leg[1], dj):\n",
    "      union(leg[0],leg[1],dj)\n",
    "      tree.append(leg[:2])\n",
    "  # This is the minimum spanning tree\n",
    "  return tree\n",
    "\n",
    "### Disjoint Set\n",
    "\n",
    "def find(i, dj):\n",
    "  while dj[i] != i:\n",
    "    i = dj[i]\n",
    "  return i\n",
    "\n",
    "def union(i, j, dj):\n",
    "  a = find(i, dj)\n",
    "  b = find(j, dj)\n",
    "  dj[a] = b\n",
    "\n",
    "## Utils\n",
    "def gennodes(n, size = 200):\n",
    "  graph = {}\n",
    "  for i in range(n):\n",
    "    x = random.randint(0, size)\n",
    "    y = random.randint(0,size)\n",
    "    graph[i] = (x,y)\n",
    "  return graph\n",
    "\n",
    "def makematrix(V):\n",
    "  m = len(V)\n",
    "  matrix = [[0 for i in range(m)] for j in range(m)]\n",
    "  for node in V:\n",
    "    for neighbor in V:\n",
    "      point1 = V[node]\n",
    "      point2 = V[neighbor]\n",
    "      matrix[node][neighbor] = int(dist(point1, point2)**0.5)\n",
    "  return matrix\n",
    "\n",
    "def dist(point1, point2):\n",
    "  return (point1[0] - point2[0])**2 + (point1[1] - point2[1])**2\n",
    "\n",
    "## Run code\n",
    "\n",
    "V = gennodes(10)\n",
    "matrix = makematrix(V)\n",
    "print(matrix)\n",
    "print(kruskals(matrix))\n"
   ]
  },
  {
   "cell_type": "markdown",
   "metadata": {},
   "source": [
    "![](kruskal1.gif)"
   ]
  },
  {
   "cell_type": "markdown",
   "metadata": {},
   "source": [
    "## Be Dynamic\n",
    "* If you are recomputing a solution over and over (especially in a recursive function), then it may be worth to keep a tab on previous solutions"
   ]
  },
  {
   "cell_type": "code",
   "execution_count": 4,
   "metadata": {},
   "outputs": [
    {
     "name": "stdout",
     "output_type": "stream",
     "text": [
      "The naive solution: 0,1,1,2,3,5,8,13,21,34,55,89,144,233,377,610,987,1597,2584,4181,6765,10946,17711,28657,46368,75025,121393,196418,317811,514229,832040,1346269,2178309 took 2441 milliseconds\n",
      "The faster solution: 0, 1, 1, 2, 3, 5, 8, 13, 21, 34, 55, 89, 144, 233, 377, 610, 987, 1597, 2584, 4181, 6765, 10946, 17711, 28657, 46368, 75025, 121393, 196418, 317811, 514229, 832040, 1346269, 2178309 took 0 milliseconds\n",
      "The precompute solution: 0, 1, 1, 2, 3, 5, 8, 13, 21, 34, 55, 89, 144, 233, 377, 610, 987, 1597, 2584, 4181, 6765, 10946, 17711, 28657, 46368, 75025, 121393, 196418, 317811, 514229, 832040, 1346269, 2178309 took 1 milliseconds\n"
     ]
    }
   ],
   "source": [
    "n = 33 # 30 vs 33\n",
    "N = 1000\n",
    "# Fibonacci\n",
    "\n",
    "def naive_fib(n):\n",
    "    if n == 0:\n",
    "        return 0\n",
    "    if n == 1:\n",
    "        return 1\n",
    "    return naive_fib(n-1) + naive_fib(n-2)\n",
    "\n",
    "def dynamic_fib(n):\n",
    "    fibs = [0,1]\n",
    "    while len(fibs) <= n:\n",
    "        fibs.append(fibs[-1] + fibs[-2])\n",
    "    return fibs[n]\n",
    "\n",
    "## Sometimes we can just precompute\n",
    "\n",
    "def one_pass_fib(n):\n",
    "    fibs = [0,1]\n",
    "    while len(fibs) <= n:\n",
    "        fibs.append(fibs[-1] + fibs[-2])\n",
    "    return fibs\n",
    "global fibs\n",
    "fibs = one_pass_fib(n)\n",
    "\n",
    "def precompute_fib(n):\n",
    "    global fibs\n",
    "    return fibs[n]\n",
    "\n",
    "## Timing\n",
    "start_time = get_time()\n",
    "solutions = [naive_fib(i) for i in range(n)]\n",
    "total_time = get_time() - start_time\n",
    "solutions = [str(i) for i in solutions]\n",
    "print(\"The naive solution: {} took {} milliseconds\".format(\",\".join(solutions), total_time))\n",
    "\n",
    "#n = 1000\n",
    "dontprint = False\n",
    "\n",
    "start_time = get_time()\n",
    "solutions = [dynamic_fib(i) for i in range(n)]\n",
    "total_time = get_time() - start_time\n",
    "solutions = [str(i) for i in solutions]\n",
    "print(\"The faster solution: {} took {} milliseconds\".format(\"\" if dontprint else \", \".join(solutions), total_time))\n",
    "\n",
    "#n = 10000\n",
    "start_time = get_time()\n",
    "fibs = one_pass_fib(n)\n",
    "solutions = [precompute_fib(i) for i in range(n)]\n",
    "total_time = get_time() - start_time\n",
    "solutions = [str(i) for i in solutions]\n",
    "print(\"The precompute solution: {} took {} milliseconds\".format(\"\" if dontprint else \", \".join(solutions), total_time))"
   ]
  },
  {
   "cell_type": "markdown",
   "metadata": {},
   "source": [
    "## Make the problem smaller\n",
    "\n",
    "If you can split the problem into smaller problems, it is usually a lot easier to find what you are looking for.\n",
    "\n",
    "A famous example is sorting."
   ]
  },
  {
   "cell_type": "code",
   "execution_count": 5,
   "metadata": {},
   "outputs": [
    {
     "name": "stdout",
     "output_type": "stream",
     "text": [
      "The bubblesort solution:  took 1677 milliseconds\n",
      "The quicksort solution:  took 99 milliseconds\n"
     ]
    }
   ],
   "source": [
    "n = 5000 # 40 vs 5000\n",
    "def bubblesort(nums):\n",
    "    nums = nums[:] # new array\n",
    "    n = len(nums)\n",
    "    for i in range(n-1):\n",
    "        for j in range(i+1, n):\n",
    "            if nums[j] < nums[i]:\n",
    "                nums[i], nums[j] = nums[j], nums[i]\n",
    "    return nums\n",
    "# Taken from O'Reilly Python Cookbook\n",
    "# https://www.oreilly.com/library/view/python-cookbook/0596001673/ch02s12.html\n",
    "def qsort(L):\n",
    "    # to slow down quicksort even more\n",
    "    i = 0\n",
    "    for _ in range(250): #250 iterations of slowing it down\n",
    "        i = i + 1\n",
    "    # done making it slow\n",
    "    if not L: return L\n",
    "    pivot = L[0]\n",
    "    def lt(x, pivot=pivot): return x<pivot\n",
    "    def ge(x, pivot=pivot): return x>=pivot\n",
    "    return qsort(list(filter(lt, L[1:])))+[pivot]+qsort(list(filter(ge, L[1:])))\n",
    "nums = [randint(0,n**2) for i in range(n)]\n",
    "dontprint = True\n",
    "\n",
    "start_time = get_time()\n",
    "solutions = bubblesort(nums)\n",
    "total_time = get_time() - start_time\n",
    "solutions = [str(i) for i in solutions]\n",
    "print(\"The bubblesort solution: {} took {} milliseconds\".format(\"\" if dontprint else \", \".join(solutions), total_time))\n",
    "\n",
    "start_time = get_time()\n",
    "fibs = one_pass_fib(n)\n",
    "solutions = qsort(nums)\n",
    "total_time = get_time() - start_time\n",
    "solutions = [str(i) for i in solutions]\n",
    "print(\"The quicksort solution: {} took {} milliseconds\".format(\"\" if dontprint else \", \".join(solutions), total_time))"
   ]
  },
  {
   "cell_type": "markdown",
   "metadata": {},
   "source": [
    "![](sorting.gif)"
   ]
  },
  {
   "cell_type": "markdown",
   "metadata": {},
   "source": [
    "## Don't reinvent the wheel\n",
    "These are some of the data structures and algorithms available to you in C++, Java, and Python\n",
    "\n",
    "|  | C++ | Java | Python |\n",
    "|-|-|-|-|\n",
    "| Resizable Array | [`vector`](http://www.cplusplus.com/reference/vector/) | [`ArrayList`](https://docs.oracle.com/javase/8/docs/api/java/util/ArrayList.html) | [`list`](https://docs.python.org/3/library/stdtypes.html#list) |\n",
    "| Linked List | [`list`](http://www.cplusplus.com/reference/list/), [`stack`](http://www.cplusplus.com/reference/stack/), [`queue`](http://www.cplusplus.com/reference/queue/), [`deque`](http://www.cplusplus.com/reference/deque/) | [`LinkedList`](https://docs.oracle.com/javase/8/docs/api/java/util/LinkedList.html) | [`collections.deque`](https://docs.python.org/3/library/collections.html#collections.deque) |\n",
    "| Tree Set | [`set`](http://www.cplusplus.com/reference/set/) | [`TreeSet`](https://docs.oracle.com/javase/8/docs/api/java/util/TreeSet.html) |  |\n",
    "| Tree Dictionary | [`map`](http://www.cplusplus.com/reference/map/) | [`TreeMap`](https://docs.oracle.com/javase/8/docs/api/java/util/TreeMap.html) |  |\n",
    "| Hash Set | [`unordered_set`](http://www.cplusplus.com/reference/unordered_set/) | [`HashSet`](https://docs.oracle.com/javase/8/docs/api/java/util/HashSet.html) | [`set`](https://docs.python.org/3/library/stdtypes.html#set) |\n",
    "| Hash Dictionary | [`unordered_map`](http://www.cplusplus.com/reference/unordered_map/) | [`HashMap`](https://docs.oracle.com/javase/8/docs/api/java/util/HashMap.html) | [`dict`](https://docs.python.org/3/library/stdtypes.html#dict) |\n",
    "| Priority Queue | [`priority_queue`](http://www.cplusplus.com/reference/queue/priority_queue/) or [`make_heap`](http://www.cplusplus.com/reference/algorithm/make_heap/) and friends | [`PriorityQueue`](https://docs.oracle.com/javase/8/docs/api/java/util/PriorityQueue.html) | [`queue.PriorityQueue`](https://docs.python.org/3/library/queue.html#queue.PriorityQueue) or [`heapq`](https://docs.python.org/3/library/heapq.html) |\n",
    "| Sort | [`sort`](http://www.cplusplus.com/reference/algorithm/sort/) or [`qsort`](http://www.cplusplus.com/reference/cstdlib/qsort/) | [`Arrays.sort`](https://docs.oracle.com/javase/8/docs/api/java/util/Arrays.html#sort-int:A-) or [`Collections.sort`](https://docs.oracle.com/javase/8/docs/api/java/util/Collections.html#sort-java.util.List-) | [`list.sort`](https://docs.python.org/3/library/stdtypes.html#list.sort) |\n",
    "| Binary Search | [`binary_search`](http://www.cplusplus.com/reference/algorithm/binary_search/) or [`bsearch`](http://www.cplusplus.com/reference/cstdlib/bsearch/) | [`Arrays.binarySearch`](https://docs.oracle.com/javase/8/docs/api/java/util/Arrays.html#binarySearch-int:A-int-) or [`Collections.binarySearch`](https://docs.oracle.com/javase/8/docs/api/java/util/Collections.html#binarySearch-java.util.List-T-) | [`bisect`](https://docs.python.org/3/library/bisect.html) |\n",
    "| Min/Max | [`min`](http://www.cplusplus.com/reference/algorithm/min/), [`min_element`](http://www.cplusplus.com/reference/algorithm/min_element/), [`max`](http://www.cplusplus.com/reference/algorithm/max/), [`max_element`](http://www.cplusplus.com/reference/algorithm/max_element/), [`minmax`](http://www.cplusplus.com/reference/algorithm/minmax/), [`minmax_element`](http://www.cplusplus.com/reference/algorithm/minmax_element/) | [`Collections.min`](https://docs.oracle.com/javase/8/docs/api/java/util/Collections.html#min-java.util.Collection-) or [`Collections.max`](https://docs.oracle.com/javase/8/docs/api/java/util/Collections.html#max-java.util.Collection-) | [`min`](https://docs.python.org/3/library/functions.html#min), [`max`](https://docs.python.org/3/library/functions.html#max) |"
   ]
  },
  {
   "cell_type": "code",
   "execution_count": null,
   "metadata": {},
   "outputs": [],
   "source": []
  }
 ],
 "metadata": {
  "kernelspec": {
   "display_name": "Python 3",
   "language": "python",
   "name": "python3"
  },
  "language_info": {
   "codemirror_mode": {
    "name": "ipython",
    "version": 3
   },
   "file_extension": ".py",
   "mimetype": "text/x-python",
   "name": "python",
   "nbconvert_exporter": "python",
   "pygments_lexer": "ipython3",
   "version": "3.8.2"
  }
 },
 "nbformat": 4,
 "nbformat_minor": 4
}
